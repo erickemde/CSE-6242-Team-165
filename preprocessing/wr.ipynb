{
 "cells": [
  {
   "cell_type": "code",
   "execution_count": 1,
   "metadata": {},
   "outputs": [],
   "source": [
    "import pandas as pd\n",
    "import numpy as np\n",
    "import matplotlib.pyplot as plt\n",
    "\n",
    "pd.set_option('display.max_columns', None)"
   ]
  },
  {
   "cell_type": "code",
   "execution_count": 3,
   "metadata": {},
   "outputs": [],
   "source": [
    "#pip install pyarrow"
   ]
  },
  {
   "cell_type": "code",
   "execution_count": 2,
   "metadata": {},
   "outputs": [],
   "source": [
    "player_data_full = pd.read_parquet('../data/raw/nflverse/player_stats_season.parquet')\n",
    "adj_salaries = pd.read_csv('../data/raw/salaries/WR_adjusted_salaries.csv')"
   ]
  },
  {
   "cell_type": "code",
   "execution_count": 3,
   "metadata": {},
   "outputs": [
    {
     "data": {
      "text/html": [
       "<div>\n",
       "<style scoped>\n",
       "    .dataframe tbody tr th:only-of-type {\n",
       "        vertical-align: middle;\n",
       "    }\n",
       "\n",
       "    .dataframe tbody tr th {\n",
       "        vertical-align: top;\n",
       "    }\n",
       "\n",
       "    .dataframe thead th {\n",
       "        text-align: right;\n",
       "    }\n",
       "</style>\n",
       "<table border=\"1\" class=\"dataframe\">\n",
       "  <thead>\n",
       "    <tr style=\"text-align: right;\">\n",
       "      <th></th>\n",
       "      <th>season</th>\n",
       "      <th>player_display_name</th>\n",
       "      <th>games</th>\n",
       "      <th>receptions</th>\n",
       "      <th>targets</th>\n",
       "      <th>receiving_yards</th>\n",
       "      <th>receiving_tds</th>\n",
       "      <th>receiving_yards_after_catch</th>\n",
       "      <th>receiving_first_downs</th>\n",
       "      <th>receiving_epa</th>\n",
       "      <th>target_share</th>\n",
       "      <th>fantasy_points</th>\n",
       "    </tr>\n",
       "  </thead>\n",
       "  <tbody>\n",
       "    <tr>\n",
       "      <th>31937</th>\n",
       "      <td>2023</td>\n",
       "      <td>Gunner Olszewski</td>\n",
       "      <td>2</td>\n",
       "      <td>1</td>\n",
       "      <td>1</td>\n",
       "      <td>0.0</td>\n",
       "      <td>0</td>\n",
       "      <td>0.0</td>\n",
       "      <td>0.0</td>\n",
       "      <td>-6.185573</td>\n",
       "      <td>0.034483</td>\n",
       "      <td>4.0</td>\n",
       "    </tr>\n",
       "    <tr>\n",
       "      <th>1208</th>\n",
       "      <td>1999</td>\n",
       "      <td>Alex Van Dyke</td>\n",
       "      <td>1</td>\n",
       "      <td>0</td>\n",
       "      <td>2</td>\n",
       "      <td>0.0</td>\n",
       "      <td>0</td>\n",
       "      <td>0.0</td>\n",
       "      <td>0.0</td>\n",
       "      <td>-2.295286</td>\n",
       "      <td>0.100000</td>\n",
       "      <td>0.0</td>\n",
       "    </tr>\n",
       "  </tbody>\n",
       "</table>\n",
       "</div>"
      ],
      "text/plain": [
       "       season player_display_name  games  receptions  targets  \\\n",
       "31937    2023    Gunner Olszewski      2           1        1   \n",
       "1208     1999       Alex Van Dyke      1           0        2   \n",
       "\n",
       "       receiving_yards  receiving_tds  receiving_yards_after_catch  \\\n",
       "31937              0.0              0                          0.0   \n",
       "1208               0.0              0                          0.0   \n",
       "\n",
       "       receiving_first_downs  receiving_epa  target_share  fantasy_points  \n",
       "31937                    0.0      -6.185573      0.034483             4.0  \n",
       "1208                     0.0      -2.295286      0.100000             0.0  "
      ]
     },
     "execution_count": 3,
     "metadata": {},
     "output_type": "execute_result"
    }
   ],
   "source": [
    "wr = player_data_full[player_data_full['position'] == 'WR']\n",
    "\n",
    "## including postgame data \n",
    "wr = wr[wr.season_type == 'REG+POST']\n",
    "\n",
    "## filtering for relevant wr metrics\n",
    "wr_features = ['season', 'player_display_name', 'games','receptions', 'targets', 'receiving_yards', 'receiving_tds', 'receiving_yards_after_catch', 'receiving_first_downs', 'receiving_epa', 'target_share', 'fantasy_points']\n",
    "wr = wr[wr_features]\n",
    "wr.sample(2)"
   ]
  },
  {
   "cell_type": "code",
   "execution_count": 4,
   "metadata": {},
   "outputs": [],
   "source": [
    "## removing rookie contracts from salary data\n",
    "\n",
    "rookie_years = adj_salaries.groupby('player')['year_signed'].min().reset_index()\n",
    "rookie_years.columns = ['player', 'rookie_year']\n",
    "\n",
    "adj_salaries = adj_salaries.merge(rookie_years, on='player')\n",
    "adj_salaries = adj_salaries[adj_salaries['year_signed'] > adj_salaries['rookie_year']]"
   ]
  },
  {
   "cell_type": "code",
   "execution_count": 7,
   "metadata": {},
   "outputs": [],
   "source": [
    "## joining salaries to data prior to the year contract was signed. \n",
    "## ex joining Aaron Rodgers 2018 contract information to all years 2013-2017, 2013 to 2008-2012 etc\n",
    "\n",
    "def next_salary(player_id, year, contract_df):\n",
    "\n",
    "    future_contracts = contract_df[(contract_df['player'] == player_id) &  \n",
    "                                   (contract_df['year_signed'] > year)]\n",
    "\n",
    "\n",
    "    ### getting contract signed most recently after current year of play, returning salary/yr\n",
    "    if len(future_contracts) > 0:\n",
    "        next_contract = future_contracts.sort_values('year_signed').iloc[0]\n",
    "        return next_contract['apy']\n",
    "    else:\n",
    "        return np.nan \n",
    "    \n",
    "\n",
    "def next_salary_smoothed(player_id, year, contract_df, type):\n",
    "\n",
    "    future_contracts = contract_df[(contract_df['player'] == player_id) &  \n",
    "                                   (contract_df['year_signed'] > year)]\n",
    "    if len(future_contracts) > 0:\n",
    "        next_contract = future_contracts.sort_values('year_signed').iloc[0]\n",
    "        if type == 'smoothed':\n",
    "            return next_contract['smooth_adjusted_apy']\n",
    "        if type == 'mean':\n",
    "            return next_contract['mean_adjusted_apy']\n",
    "        if type == 'median':\n",
    "            return next_contract['med_adjusted_apy']\n",
    "    else:\n",
    "        return np.nan "
   ]
  },
  {
   "cell_type": "code",
   "execution_count": 8,
   "metadata": {},
   "outputs": [],
   "source": [
    "### applying next salary function to all rows in qb_data, joining the salary from their next contract \n",
    "\n",
    "wr['salary_per_year'] = wr.apply(\n",
    "    lambda row: next_salary(row['player_display_name'], row['season'], adj_salaries), \n",
    "    axis=1\n",
    ")\n",
    "\n",
    "wr['smoothed_salary_per_year'] = wr.apply(\n",
    "    lambda row: next_salary_smoothed(row['player_display_name'], row['season'], adj_salaries, 'smoothed'), \n",
    "    axis=1\n",
    ")\n",
    "\n",
    "wr['mean_adj_salary_per_year'] = wr.apply(\n",
    "    lambda row: next_salary_smoothed(row['player_display_name'], row['season'], adj_salaries, 'mean'), \n",
    "    axis=1\n",
    ")\n",
    "\n",
    "wr['med_adj_salary_per_year'] = wr.apply(\n",
    "    lambda row: next_salary_smoothed(row['player_display_name'], row['season'], adj_salaries, 'median'), \n",
    "    axis=1\n",
    ")"
   ]
  },
  {
   "cell_type": "code",
   "execution_count": 9,
   "metadata": {},
   "outputs": [],
   "source": [
    "adj_salaries = adj_salaries.rename(columns={'player': 'player_display_name','smooth_adjusted_apy': 'smoothed_salary_per_year'})\n",
    "\n",
    "wr = pd.merge(\n",
    "    wr, \n",
    "    adj_salaries[['player_display_name', 'smoothed_salary_per_year', 'year_signed']], \n",
    "    on=['player_display_name', 'smoothed_salary_per_year'], \n",
    "    how='left'\n",
    ")"
   ]
  },
  {
   "cell_type": "code",
   "execution_count": 10,
   "metadata": {},
   "outputs": [
    {
     "data": {
      "text/plain": [
       "(5277, 17)"
      ]
     },
     "execution_count": 10,
     "metadata": {},
     "output_type": "execute_result"
    }
   ],
   "source": [
    "wr.shape"
   ]
  },
  {
   "cell_type": "code",
   "execution_count": 11,
   "metadata": {},
   "outputs": [],
   "source": [
    "wr_train_data = wr[wr.year_signed < 2024]\n",
    "wr_train_data = wr_train_data.dropna(subset=['salary_per_year'])\n",
    "wr_train_data.to_csv('../data/cleaned/wr_train.csv', index=False)"
   ]
  },
  {
   "cell_type": "code",
   "execution_count": 12,
   "metadata": {},
   "outputs": [],
   "source": [
    "wr_test_data = wr[wr.year_signed == 2024]\n",
    "wr_test_data = wr_test_data.dropna(subset=['salary_per_year'])\n",
    "wr_test_data.to_csv('../data/cleaned/wr_test.csv', index=False)"
   ]
  },
  {
   "cell_type": "code",
   "execution_count": null,
   "metadata": {},
   "outputs": [],
   "source": []
  }
 ],
 "metadata": {
  "kernelspec": {
   "display_name": "Python 3",
   "language": "python",
   "name": "python3"
  },
  "language_info": {
   "codemirror_mode": {
    "name": "ipython",
    "version": 3
   },
   "file_extension": ".py",
   "mimetype": "text/x-python",
   "name": "python",
   "nbconvert_exporter": "python",
   "pygments_lexer": "ipython3",
   "version": "3.12.5"
  }
 },
 "nbformat": 4,
 "nbformat_minor": 2
}
