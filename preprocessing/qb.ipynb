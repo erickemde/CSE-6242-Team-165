{
 "cells": [
  {
   "cell_type": "code",
   "execution_count": 224,
   "metadata": {},
   "outputs": [],
   "source": [
    "import pandas as pd\n",
    "import numpy as np\n",
    "import matplotlib.pyplot as plt\n",
    "\n",
    "pd.set_option('display.max_columns', None)"
   ]
  },
  {
   "cell_type": "code",
   "execution_count": 176,
   "metadata": {},
   "outputs": [],
   "source": [
    "#pip install pyarrow"
   ]
  },
  {
   "cell_type": "code",
   "execution_count": 225,
   "metadata": {},
   "outputs": [],
   "source": [
    "player_data_full = pd.read_parquet('../data/raw/nflverse/player_stats_season.parquet')\n",
    "adj_salaries = pd.read_csv('../data/raw/salaries/QB_adjusted_salaries.csv')"
   ]
  },
  {
   "cell_type": "code",
   "execution_count": 226,
   "metadata": {},
   "outputs": [
    {
     "data": {
      "text/html": [
       "<div>\n",
       "<style scoped>\n",
       "    .dataframe tbody tr th:only-of-type {\n",
       "        vertical-align: middle;\n",
       "    }\n",
       "\n",
       "    .dataframe tbody tr th {\n",
       "        vertical-align: top;\n",
       "    }\n",
       "\n",
       "    .dataframe thead th {\n",
       "        text-align: right;\n",
       "    }\n",
       "</style>\n",
       "<table border=\"1\" class=\"dataframe\">\n",
       "  <thead>\n",
       "    <tr style=\"text-align: right;\">\n",
       "      <th></th>\n",
       "      <th>season</th>\n",
       "      <th>player_display_name</th>\n",
       "      <th>games</th>\n",
       "      <th>completions</th>\n",
       "      <th>attempts</th>\n",
       "      <th>passing_yards</th>\n",
       "      <th>passing_tds</th>\n",
       "      <th>interceptions</th>\n",
       "      <th>sacks</th>\n",
       "      <th>sack_fumbles</th>\n",
       "      <th>passing_first_downs</th>\n",
       "      <th>passing_epa</th>\n",
       "      <th>passing_2pt_conversions</th>\n",
       "      <th>pacr</th>\n",
       "      <th>dakota</th>\n",
       "      <th>rushing_yards</th>\n",
       "      <th>rushing_tds</th>\n",
       "      <th>fantasy_points</th>\n",
       "    </tr>\n",
       "  </thead>\n",
       "  <tbody>\n",
       "    <tr>\n",
       "      <th>23919</th>\n",
       "      <td>2017</td>\n",
       "      <td>Patrick Mahomes</td>\n",
       "      <td>1</td>\n",
       "      <td>22</td>\n",
       "      <td>35</td>\n",
       "      <td>284.0</td>\n",
       "      <td>0</td>\n",
       "      <td>1.0</td>\n",
       "      <td>2.0</td>\n",
       "      <td>0</td>\n",
       "      <td>14.0</td>\n",
       "      <td>7.888877</td>\n",
       "      <td>0</td>\n",
       "      <td>1.088123</td>\n",
       "      <td>0.132096</td>\n",
       "      <td>10.0</td>\n",
       "      <td>0</td>\n",
       "      <td>10.36</td>\n",
       "    </tr>\n",
       "    <tr>\n",
       "      <th>5615</th>\n",
       "      <td>2003</td>\n",
       "      <td>Todd Bouman</td>\n",
       "      <td>3</td>\n",
       "      <td>7</td>\n",
       "      <td>13</td>\n",
       "      <td>81.0</td>\n",
       "      <td>1</td>\n",
       "      <td>0.0</td>\n",
       "      <td>1.0</td>\n",
       "      <td>0</td>\n",
       "      <td>4.0</td>\n",
       "      <td>2.858155</td>\n",
       "      <td>1</td>\n",
       "      <td>0.000000</td>\n",
       "      <td>0.034900</td>\n",
       "      <td>1.0</td>\n",
       "      <td>0</td>\n",
       "      <td>7.34</td>\n",
       "    </tr>\n",
       "  </tbody>\n",
       "</table>\n",
       "</div>"
      ],
      "text/plain": [
       "       season player_display_name  games  completions  attempts  \\\n",
       "23919    2017     Patrick Mahomes      1           22        35   \n",
       "5615     2003         Todd Bouman      3            7        13   \n",
       "\n",
       "       passing_yards  passing_tds  interceptions  sacks  sack_fumbles  \\\n",
       "23919          284.0            0            1.0    2.0             0   \n",
       "5615            81.0            1            0.0    1.0             0   \n",
       "\n",
       "       passing_first_downs  passing_epa  passing_2pt_conversions      pacr  \\\n",
       "23919                 14.0     7.888877                        0  1.088123   \n",
       "5615                   4.0     2.858155                        1  0.000000   \n",
       "\n",
       "         dakota  rushing_yards  rushing_tds  fantasy_points  \n",
       "23919  0.132096           10.0            0           10.36  \n",
       "5615   0.034900            1.0            0            7.34  "
      ]
     },
     "execution_count": 226,
     "metadata": {},
     "output_type": "execute_result"
    }
   ],
   "source": [
    "qb = player_data_full[player_data_full['position'] == 'QB']\n",
    "\n",
    "## including postgame data \n",
    "qb = qb[qb.season_type == 'REG+POST']\n",
    "\n",
    "## filtering for relevant qb metrics\n",
    "qb_features = ['season', 'player_display_name', 'games', 'completions', 'attempts', 'passing_yards', 'passing_tds', 'interceptions', 'sacks', 'sack_fumbles', 'passing_first_downs', 'passing_epa', 'passing_2pt_conversions', 'pacr', 'dakota', 'rushing_yards', 'rushing_tds', 'fantasy_points']\n",
    "qb = qb[qb_features]\n",
    "qb.sample(2)"
   ]
  },
  {
   "cell_type": "code",
   "execution_count": 227,
   "metadata": {},
   "outputs": [],
   "source": [
    "## removing rookie contracts from salary data\n",
    "\n",
    "rookie_years = adj_salaries.groupby('player')['year_signed'].min().reset_index()\n",
    "rookie_years.columns = ['player', 'rookie_year']\n",
    "\n",
    "adj_salaries = adj_salaries.merge(rookie_years, on='player')\n",
    "adj_salaries = adj_salaries[adj_salaries['year_signed'] > adj_salaries['rookie_year']]"
   ]
  },
  {
   "cell_type": "code",
   "execution_count": 229,
   "metadata": {},
   "outputs": [],
   "source": [
    "## joining salaries to data prior to the year contract was signed. \n",
    "## ex joining Aaron Rodgers 2018 contract information to all years 2013-2017, 2013 to 2008-2012 etc\n",
    "\n",
    "def next_salary(player_id, year, contract_df):\n",
    "\n",
    "    future_contracts = contract_df[(contract_df['player'] == player_id) &  \n",
    "                                   (contract_df['year_signed'] > year)]\n",
    "\n",
    "\n",
    "    ### getting contract signed most recently after current year of play, returning salary/yr\n",
    "    if len(future_contracts) > 0:\n",
    "        next_contract = future_contracts.sort_values('year_signed').iloc[0]\n",
    "        return next_contract['apy']\n",
    "    else:\n",
    "        return np.nan \n",
    "    \n",
    "\n",
    "def next_salary_smoothed(player_id, year, contract_df, type):\n",
    "\n",
    "    future_contracts = contract_df[(contract_df['player'] == player_id) &  \n",
    "                                   (contract_df['year_signed'] > year)]\n",
    "    if len(future_contracts) > 0:\n",
    "        next_contract = future_contracts.sort_values('year_signed').iloc[0]\n",
    "        if type == 'smoothed':\n",
    "            return next_contract['smooth_adjusted_apy']\n",
    "        if type == 'mean':\n",
    "            return next_contract['mean_adjusted_apy']\n",
    "        if type == 'median':\n",
    "            return next_contract['med_adjusted_apy']\n",
    "    else:\n",
    "        return np.nan "
   ]
  },
  {
   "cell_type": "code",
   "execution_count": 230,
   "metadata": {},
   "outputs": [],
   "source": [
    "### applying next salary function to all rows in qb_data, joining the salary from their next contract \n",
    "\n",
    "qb['salary_per_year'] = qb.apply(\n",
    "    lambda row: next_salary(row['player_display_name'], row['season'], adj_salaries), \n",
    "    axis=1\n",
    ")\n",
    "\n",
    "qb['smoothed_salary_per_year'] = qb.apply(\n",
    "    lambda row: next_salary_smoothed(row['player_display_name'], row['season'], adj_salaries, 'smoothed'), \n",
    "    axis=1\n",
    ")\n",
    "\n",
    "qb['mean_adj_salary_per_year'] = qb.apply(\n",
    "    lambda row: next_salary_smoothed(row['player_display_name'], row['season'], adj_salaries, 'mean'), \n",
    "    axis=1\n",
    ")\n",
    "\n",
    "qb['med_adj_salary_per_year'] = qb.apply(\n",
    "    lambda row: next_salary_smoothed(row['player_display_name'], row['season'], adj_salaries, 'median'), \n",
    "    axis=1\n",
    ")"
   ]
  },
  {
   "cell_type": "code",
   "execution_count": 231,
   "metadata": {},
   "outputs": [],
   "source": [
    "adj_salaries = adj_salaries.rename(columns={'player': 'player_display_name','smooth_adjusted_apy': 'smoothed_salary_per_year'})\n",
    "\n",
    "qb = pd.merge(\n",
    "    qb, \n",
    "    adj_salaries[['player_display_name', 'smoothed_salary_per_year', 'year_signed']], \n",
    "    on=['player_display_name', 'smoothed_salary_per_year'], \n",
    "    how='left' \n",
    ")"
   ]
  },
  {
   "cell_type": "code",
   "execution_count": 234,
   "metadata": {},
   "outputs": [],
   "source": [
    "qb_train_data = qb[qb.year_signed < 2024]\n",
    "qb_train_data = qb_train_data.dropna(subset=['salary_per_year'])\n",
    "qb_train_data.to_csv('../data/cleaned/qb_train.csv', index=False)"
   ]
  },
  {
   "cell_type": "code",
   "execution_count": 235,
   "metadata": {},
   "outputs": [],
   "source": [
    "qb_test_data = qb[(qb.year_signed == 2024)]\n",
    "qb_test_data = qb_test_data.dropna(subset=['salary_per_year'])\n",
    "qb_test_data.to_csv('../data/cleaned/qb_test.csv', index=False)"
   ]
  }
 ],
 "metadata": {
  "kernelspec": {
   "display_name": "Python 3 (ipykernel)",
   "language": "python",
   "name": "python3"
  },
  "language_info": {
   "codemirror_mode": {
    "name": "ipython",
    "version": 3
   },
   "file_extension": ".py",
   "mimetype": "text/x-python",
   "name": "python",
   "nbconvert_exporter": "python",
   "pygments_lexer": "ipython3",
   "version": "3.12.4"
  }
 },
 "nbformat": 4,
 "nbformat_minor": 4
}
